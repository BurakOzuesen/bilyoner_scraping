{
 "cells": [
  {
   "cell_type": "code",
   "execution_count": 24,
   "id": "3161894c",
   "metadata": {},
   "outputs": [],
   "source": [
    "import warnings\n",
    "warnings.filterwarnings('ignore')"
   ]
  },
  {
   "cell_type": "code",
   "execution_count": 25,
   "id": "6126819f",
   "metadata": {},
   "outputs": [],
   "source": [
    "CSV_PATH = \"match_odds_wide.csv\"\n",
    "KEY_COLS = [\"match_date\", \"match_time\", \"tournament\", \"match_id\", \"homeTeam\", \"awayTeam\", \"firstHalfHomeGoal\", \"firstHalfAwayGoal\", \"totalHomeGoal\", \"totalAwayGoal\", \"homeCorner\", \"awayCorner\"]"
   ]
  },
  {
   "cell_type": "code",
   "execution_count": 26,
   "id": "702b05a5",
   "metadata": {},
   "outputs": [],
   "source": [
    "import requests\n",
    "import pandas as pd\n",
    "\n",
    "# 1. Maç listesini çek\n",
    "url_list = (\n",
    "    \"https://www.bilyoner.com/api/v3/mobile/aggregator/\"\n",
    "    \"gamelist/all/v1\"\n",
    ")\n",
    "params = {\n",
    "    \"tabType\": 1,\n",
    "    \"bulletinType\": 2,\n",
    "    \"liveEventsEnabledForPreBulletin\": \"true\"\n",
    "}\n",
    "headers = {\n",
    "    \"User-Agent\": \"Mozilla/5.0\"\n",
    "}\n",
    "\n",
    "resp = requests.get(url_list, params=params, headers=headers)\n",
    "resp.raise_for_status()\n",
    "data = resp.json()"
   ]
  },
  {
   "cell_type": "code",
   "execution_count": 27,
   "id": "d66f38be",
   "metadata": {},
   "outputs": [],
   "source": [
    "event_items = [(k, v) for k, v in data.items()]\n",
    "event_items = event_items[0][1]"
   ]
  },
  {
   "cell_type": "code",
   "execution_count": 28,
   "id": "b02c5d55",
   "metadata": {},
   "outputs": [],
   "source": [
    "event_items\n",
    "match_ids = list(event_items.keys())"
   ]
  },
  {
   "cell_type": "code",
   "execution_count": 29,
   "id": "b72a6569",
   "metadata": {},
   "outputs": [
    {
     "data": {
      "text/plain": [
       "90"
      ]
     },
     "execution_count": 29,
     "metadata": {},
     "output_type": "execute_result"
    }
   ],
   "source": [
    "len(match_ids)"
   ]
  },
  {
   "cell_type": "code",
   "execution_count": 30,
   "id": "69f6d2b7",
   "metadata": {},
   "outputs": [
    {
     "data": {
      "text/plain": [
       "'https://www.bilyoner.com/api/v3/mobile/aggregator/match-card/2172147/odds?isLiveEvent=true&isPopular=false'"
      ]
     },
     "execution_count": 30,
     "metadata": {},
     "output_type": "execute_result"
    }
   ],
   "source": [
    "# https://www.bilyoner.com/api/v3/mobile/aggregator/match-card/2125768/odds?isLiveEvent=true&isPopular=false\n",
    "from random import shuffle\n",
    "shuffle(match_ids)\n",
    "for match_id in match_ids[0:3]:\n",
    "    # match_id = \"2127178\"\n",
    "    match_url = f\"https://www.bilyoner.com/api/v3/mobile/aggregator/match-card/{match_id}/odds?isLiveEvent=true&isPopular=false\"\n",
    "match_url"
   ]
  },
  {
   "cell_type": "code",
   "execution_count": 31,
   "id": "a3bd7d25",
   "metadata": {},
   "outputs": [
    {
     "name": "stdout",
     "output_type": "stream",
     "text": [
      "<Response [200]>\n"
     ]
    }
   ],
   "source": [
    "match_info = requests.get(match_url, headers=headers)\n",
    "print(match_info)"
   ]
  },
  {
   "cell_type": "code",
   "execution_count": 32,
   "id": "944f0476",
   "metadata": {},
   "outputs": [],
   "source": [
    "def fetch_match_odds(match_id, is_live=True, is_popular=False):\n",
    "    \"\"\"\n",
    "    Fetch odds JSON for a given match_id from Bilyoner API.\n",
    "    Returns a pandas DataFrame with columns: market_name, odd_name, odd_value, odd_percentage.\n",
    "    \"\"\"\n",
    "    \n",
    "    league_url = f\"https://www.bilyoner.com/api/v3/mobile/aggregator/gamelist/events/{match_id}\"\n",
    "    resp = requests.get(league_url, headers=headers)\n",
    "    if resp.status_code != 200:\n",
    "        print(f\"Failed to fetch match {match_id}\")\n",
    "        return None\n",
    "    data = resp.json()\n",
    "    if not data:\n",
    "        print(f\"No data for match {match_id}\")\n",
    "        return None\n",
    "    calendar_data = data\n",
    "    # print(calendar_data)\n",
    "\n",
    "\n",
    "    base_url = \"https://www.bilyoner.com/api/v3/mobile/aggregator/match-card\"\n",
    "    params = {\n",
    "        \"isLiveEvent\": str(is_live).lower(),\n",
    "        \"isPopular\": str(is_popular).lower()\n",
    "    }\n",
    "    url = f\"{base_url}/{match_id}/odds\"\n",
    "    resp = requests.get(url, params=params)\n",
    "    if resp.status_code != 200:\n",
    "        print(f\"Failed to fetch match {match_id}\")\n",
    "        return None\n",
    "    data = resp.json()\n",
    "    \n",
    "    home = data.get(\"homeTeam\")\n",
    "    away = data.get(\"awayTeam\")\n",
    "    markets = data.get(\"oddGroupTabs\", [])\n",
    "    # print(event_items)\n",
    "    gün = calendar_data.get(\"esd\")\n",
    "    # saat = calendar_data.get(\"strt\")\n",
    "    turnuva = calendar_data.get(\"lgn\")\n",
    "    # print(gün, turnuva)\n",
    "\n",
    "\n",
    "    rows = []\n",
    "    for item in markets:\n",
    "        if item[\"title\"] != \"Tümü\":\n",
    "            continue\n",
    "        for market in item[\"matchCardOdds\"]:\n",
    "            mkt_name = market.get(\"name\", \"\")\n",
    "\n",
    "            if \"oyuncu\" in mkt_name.lower():\n",
    "                continue\n",
    "            if \"Hangi Takım Tur Atlar\" in mkt_name:\n",
    "                continue\n",
    "            if \"kart\" in mkt_name.lower():\n",
    "                continue\n",
    "            if \"korner\" in mkt_name.lower():\n",
    "                continue\n",
    "            if \"dakikalar\" in mkt_name.lower():\n",
    "                continue\n",
    "            if \"nasıl\" in mkt_name.lower():\n",
    "                continue\n",
    "            if \"özel\" in mkt_name.lower():\n",
    "                continue\n",
    "            if \"Maçın Geri Kalanını Kim Kazanır\" in mkt_name:\n",
    "                continue\n",
    "            if \"penaltı\" in mkt_name.lower():\n",
    "                continue\n",
    "            if \"İlk Golü Hangi Takım Atar\" in mkt_name:\n",
    "                continue\n",
    "            if \"İlk Yarı Kalanını Kim Kazanır\" in mkt_name:\n",
    "                continue\n",
    "            if \"aralığ\" in mkt_name.lower():\n",
    "                continue\n",
    "\n",
    "            for odd in market.get(\"oddList\", []):\n",
    "                try:\n",
    "                    colname = f\"{mkt_name} :: {odd['n']}\"\n",
    "                    value = odd[\"val\"]\n",
    "                    rows.append((colname, value))\n",
    "                except:\n",
    "                    continue\n",
    "\n",
    "    if not rows:\n",
    "        return None\n",
    "    \n",
    "    row_dict = {k: v for k, v in rows}\n",
    "    \n",
    "    row_dict.update({\n",
    "        \"match_date\": gün.split(\"T\")[0],\n",
    "        \"match_time\": gün.split(\"T\")[1],\n",
    "        \"tournament\": turnuva,\n",
    "        \"match_id\": match_id,\n",
    "        \"homeTeam\": home,\n",
    "        \"awayTeam\": away,\n",
    "        \"firstHalfHomeGoal\": None,\n",
    "        \"firstHalfAwayGoal\": None,\n",
    "        \"totalHomeGoal\": None,\n",
    "        \"totalAwayGoal\": None,\n",
    "        \"homeCorner\": None,\n",
    "        \"awayCorner\": None\n",
    "    })\n",
    "    # print(row_dict)\n",
    "    return pd.DataFrame([row_dict])\n",
    "    # columns = [\"match_id\", \"home_team\", \"away_team\"]\n",
    "\n",
    "    # print(match_id, htn, atn)\n",
    "\n",
    "    # betting_types = [\"MS\", \"Gol\", \"Devre\", \"Korner\"]\n",
    "    # # print(type(markets))\n",
    "    # for item in markets:\n",
    "    #     if item[\"title\"] == \"Tümü\":\n",
    "    #         for betting_type in item[\"matchCardOdds\"]:\n",
    "    #             if \"oyuncu\" in betting_type[\"name\"].lower():\n",
    "    #                 continue\n",
    "    #             print(betting_type[\"name\"])\n",
    "    #             for odd in betting_type[\"oddList\"]:\n",
    "    #                 try:\n",
    "    #                     column_name = str.join([odd[\"mrn\"], odd[\"n\"]])\n",
    "    #                     if column_name not in columns:\n",
    "    #                         columns.append(column_name)\n",
    "    #                     print(odd[\"mrn\"], odd[\"n\"], odd[\"val\"])\n",
    "    #                 except:\n",
    "    #                     continue\n",
    "    #             # print(betting_type[\"oddList\"][\"mrn\"])\n",
    "        \n",
    "    # df = pd.DataFrame(markets)\n",
    "    # return df\n",
    "df_odds = fetch_match_odds(match_id)"
   ]
  },
  {
   "cell_type": "code",
   "execution_count": 33,
   "id": "edbb64c7",
   "metadata": {},
   "outputs": [],
   "source": [
    "import os\n",
    "from tqdm import tqdm\n",
    "\n",
    "def append_matches_to_csv(match_ids, csv_path=CSV_PATH):\n",
    "    # 1) Varolan CSV'yi yükle (veya boş df), match_id sütununu string çevir\n",
    "    if os.path.exists(csv_path):\n",
    "        master_df = pd.read_csv(csv_path, dtype={\"match_id\": str})\n",
    "    else:\n",
    "        master_df = pd.DataFrame(columns=KEY_COLS)\n",
    "\n",
    "    for mid in tqdm(match_ids):\n",
    "        mid = str(mid)\n",
    "        # print(f\"Processing match_id {mid}...\")\n",
    "        df = fetch_match_odds(mid)\n",
    "        if df is None:\n",
    "            print(f\"  > No odds data for match {mid}, skipping.\")\n",
    "            continue\n",
    "\n",
    "        # 2) Kolon uyumu: master ve yeni df arasındaki farklı sütunları tamamla\n",
    "        for col in df.columns:\n",
    "            if col not in master_df.columns:\n",
    "                master_df[col] = pd.NA\n",
    "        for col in master_df.columns:\n",
    "            if col not in df.columns:\n",
    "                df[col] = pd.NA\n",
    "\n",
    "        # 3) Satırı ekle\n",
    "        master_df = pd.concat([master_df, df], ignore_index=True)\n",
    "\n",
    "        # 4) Aynı match_id'li eski satırları sil, en son ekleneni tut\n",
    "        master_df = master_df.drop_duplicates(subset=[\"match_id\"], keep=\"last\")\n",
    "\n",
    "        # 5) Sütun sırasını garanti et: ilk 3 sabit, kalan alfabetik\n",
    "        other_cols = [c for c in master_df.columns if c not in KEY_COLS]\n",
    "        master_df = master_df[KEY_COLS + sorted(other_cols)]\n",
    "\n",
    "        # 6) CSV’ye yaz\n",
    "        master_df.to_csv(csv_path, index=False)\n",
    "        # print(f\"  > Written match {mid} to CSV.\")\n",
    "\n",
    "    print(\"All done!\")\n",
    "\n",
    "    print(\"All done!\")"
   ]
  },
  {
   "cell_type": "code",
   "execution_count": 34,
   "id": "816031a2",
   "metadata": {},
   "outputs": [
    {
     "name": "stderr",
     "output_type": "stream",
     "text": [
      " 43%|████▎     | 39/90 [00:39<00:47,  1.06it/s]"
     ]
    },
    {
     "name": "stdout",
     "output_type": "stream",
     "text": [
      "  > No odds data for match 2173802, skipping.\n"
     ]
    },
    {
     "name": "stderr",
     "output_type": "stream",
     "text": [
      " 57%|█████▋    | 51/90 [00:53<00:39,  1.02s/it]"
     ]
    },
    {
     "name": "stdout",
     "output_type": "stream",
     "text": [
      "  > No odds data for match 2178390, skipping.\n"
     ]
    },
    {
     "name": "stderr",
     "output_type": "stream",
     "text": [
      "100%|██████████| 90/90 [01:37<00:00,  1.09s/it]"
     ]
    },
    {
     "name": "stdout",
     "output_type": "stream",
     "text": [
      "All done!\n",
      "All done!\n"
     ]
    },
    {
     "name": "stderr",
     "output_type": "stream",
     "text": [
      "\n"
     ]
    }
   ],
   "source": [
    "append_matches_to_csv(match_ids)"
   ]
  },
  {
   "cell_type": "code",
   "execution_count": 35,
   "id": "23518a95",
   "metadata": {},
   "outputs": [
    {
     "name": "stderr",
     "output_type": "stream",
     "text": [
      "882it [02:05,  7.02it/s] \n"
     ]
    },
    {
     "name": "stdout",
     "output_type": "stream",
     "text": [
      "Güncellenmiş dosya kaydedildi.\n"
     ]
    }
   ],
   "source": [
    "import math\n",
    "import pandas as pd\n",
    "import requests\n",
    "from tqdm import tqdm\n",
    "\n",
    "headers = {\"User-Agent\": \"Mozilla/5.0\"}\n",
    "\n",
    "df = pd.read_csv(CSV_PATH)\n",
    "\n",
    "for idx, row in tqdm(df.iterrows()):\n",
    "    if math.isnan(row[\"firstHalfHomeGoal\"]) and math.isnan(row[\"firstHalfAwayGoal\"]):\n",
    "        match_id = row[\"match_id\"]\n",
    "        match_url = (\n",
    "            f\"https://www.bilyoner.com/api/mobile/match-card/v2/{match_id}/status\"\n",
    "            \"?sgSportTypeId=1\"\n",
    "        )\n",
    "\n",
    "        try:\n",
    "            resp = requests.get(match_url, headers=headers, timeout=10)\n",
    "            resp.raise_for_status()\n",
    "            data = resp.json()\n",
    "        except Exception as e:\n",
    "            print(f\"{match_id}: istek hatası → {e}\")\n",
    "            continue\n",
    "\n",
    "        if \"score\" not in data:          # eventStatus yerine score varlığına baktık\n",
    "            continue\n",
    "\n",
    "        # -- DataFrame’in orijinalini güncelle --\n",
    "        try:\n",
    "            if len(data[\"score\"]) < 3:\n",
    "                continue\n",
    "        except:\n",
    "            continue\n",
    "        \n",
    "        # Score'ları map'leyerek daha güvenli çekiyoruz\n",
    "        score_map = {s[\"scoreName\"]: s for s in data[\"score\"]}\n",
    "        # print(score_map)\n",
    "\n",
    "        try:\n",
    "            df.at[idx, \"firstHalfHomeGoal\"] = int(score_map[\"SOCCER_FIRST_HALF\"][\"homeScore\"])\n",
    "            df.at[idx, \"firstHalfAwayGoal\"] = int(score_map[\"SOCCER_FIRST_HALF\"][\"awayScore\"])\n",
    "            df.at[idx, \"totalHomeGoal\"]     = int(score_map[\"SOCCER_END_SCORE\"][\"homeScore\"])\n",
    "            df.at[idx, \"totalAwayGoal\"]     = int(score_map[\"SOCCER_END_SCORE\"][\"awayScore\"])\n",
    "        except Exception as e:\n",
    "            print(f\"{match_id}: skor güncellenemedi → {e}\")\n",
    "            continue\n",
    "        \n",
    "\n",
    "# tüm döngü bitti; CSV dosyasını aynı isimle üzerine yaz\n",
    "df.to_csv(CSV_PATH, index=False)\n",
    "print(\"Güncellenmiş dosya kaydedildi.\")\n"
   ]
  }
 ],
 "metadata": {
  "kernelspec": {
   "display_name": "ai",
   "language": "python",
   "name": "python3"
  },
  "language_info": {
   "codemirror_mode": {
    "name": "ipython",
    "version": 3
   },
   "file_extension": ".py",
   "mimetype": "text/x-python",
   "name": "python",
   "nbconvert_exporter": "python",
   "pygments_lexer": "ipython3",
   "version": "3.12.0"
  }
 },
 "nbformat": 4,
 "nbformat_minor": 5
}
