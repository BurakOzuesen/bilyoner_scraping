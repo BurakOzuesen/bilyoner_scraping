{
 "cells": [
  {
   "cell_type": "code",
   "execution_count": 1,
   "id": "4e588434",
   "metadata": {},
   "outputs": [],
   "source": [
    "import requests\n",
    "import pandas as pd\n",
    "\n",
    "# 1. Maç listesini çek\n",
    "url_list = (\n",
    "    \"https://www.bilyoner.com/api/v3/mobile/aggregator/\"\n",
    "    \"gamelist/all/v1\"\n",
    ")\n",
    "params = {\n",
    "    \"tabType\": 1,\n",
    "    \"bulletinType\": 2,\n",
    "    \"liveEventsEnabledForPreBulletin\": \"true\"\n",
    "}\n",
    "headers = {\n",
    "    \"User-Agent\": \"Mozilla/5.0\"\n",
    "}\n",
    "\n",
    "resp = requests.get(url_list, params=params, headers=headers)\n",
    "resp.raise_for_status()\n",
    "data = resp.json()"
   ]
  },
  {
   "cell_type": "code",
   "execution_count": 2,
   "id": "a295e4fa",
   "metadata": {},
   "outputs": [],
   "source": [
    "event_items = [(k, v) for k, v in data.items()]\n",
    "event_items = event_items[0][1]"
   ]
  },
  {
   "cell_type": "code",
   "execution_count": 14,
   "id": "60ae64ff",
   "metadata": {},
   "outputs": [
    {
     "name": "stdout",
     "output_type": "stream",
     "text": [
      "id 2119728\n",
      "i {'odds': [{'id': '2119728:39675793:1', 'mbs': 3, 'n': 'MS 1', 'val': '1.82', 'cht': 3, 'pr': 20.0, 'prl': '', 'imo': False, 'bt': 1, 'ei': 2119728, 'ocn': 1, 'mrId': 39675793, 'mrv': 484593016, 'mrt': 1, 'mrst': 1, 'mrs': 1, 'mrn': 'Maç Sonucu', 'hsc': False}, {'id': '2119728:39675793:2', 'mbs': 3, 'n': 'MS X', 'val': '2.68', 'cht': 2, 'pr': 20.0, 'prl': '', 'imo': False, 'bt': 1, 'ei': 2119728, 'ocn': 2, 'mrId': 39675793, 'mrv': 484593016, 'mrt': 1, 'mrst': 1, 'mrs': 1, 'mrn': 'Maç Sonucu', 'hsc': False}, {'id': '2119728:39675793:3', 'mbs': 3, 'n': 'MS 2', 'val': '3.41', 'cht': 3, 'pr': 0.0, 'prl': '', 'imo': False, 'bt': 1, 'ei': 2119728, 'ocn': 3, 'mrId': 39675793, 'mrv': 484593016, 'mrt': 1, 'mrst': 1, 'mrs': 1, 'mrn': 'Maç Sonucu', 'hsc': False}, {'n': '2,5 Alt', 'val': '0', 'cht': 0, 'imo': False, 'bt': 1, 'ei': 2119728, 'ocn': 0, 'mrv': 0, 'mrt': 0, 'mrst': 0, 'hsc': False, 'sov': '2.5'}, {'n': '2,5 Üst', 'val': '0', 'cht': 0, 'imo': False, 'bt': 1, 'ei': 2119728, 'ocn': 0, 'mrv': 0, 'mrt': 0, 'mrst': 0, 'hsc': False, 'sov': '2.5'}], 'id': '1', 'name': 'MS / 2,5', 'counts': [3, 2]}\n",
      "current_odds [{'id': '2119728:39675793:1', 'mbs': 3, 'n': 'MS 1', 'val': '1.82', 'cht': 3, 'pr': 20.0, 'prl': '', 'imo': False, 'bt': 1, 'ei': 2119728, 'ocn': 1, 'mrId': 39675793, 'mrv': 484593016, 'mrt': 1, 'mrst': 1, 'mrs': 1, 'mrn': 'Maç Sonucu', 'hsc': False}, {'id': '2119728:39675793:2', 'mbs': 3, 'n': 'MS X', 'val': '2.68', 'cht': 2, 'pr': 20.0, 'prl': '', 'imo': False, 'bt': 1, 'ei': 2119728, 'ocn': 2, 'mrId': 39675793, 'mrv': 484593016, 'mrt': 1, 'mrst': 1, 'mrs': 1, 'mrn': 'Maç Sonucu', 'hsc': False}, {'id': '2119728:39675793:3', 'mbs': 3, 'n': 'MS 2', 'val': '3.41', 'cht': 3, 'pr': 0.0, 'prl': '', 'imo': False, 'bt': 1, 'ei': 2119728, 'ocn': 3, 'mrId': 39675793, 'mrv': 484593016, 'mrt': 1, 'mrst': 1, 'mrs': 1, 'mrn': 'Maç Sonucu', 'hsc': False}, {'n': '2,5 Alt', 'val': '0', 'cht': 0, 'imo': False, 'bt': 1, 'ei': 2119728, 'ocn': 0, 'mrv': 0, 'mrt': 0, 'mrst': 0, 'hsc': False, 'sov': '2.5'}, {'n': '2,5 Üst', 'val': '0', 'cht': 0, 'imo': False, 'bt': 1, 'ei': 2119728, 'ocn': 0, 'mrv': 0, 'mrt': 0, 'mrst': 0, 'hsc': False, 'sov': '2.5'}]\n",
      "this_odd MS 1 1.82\n",
      "this_odd MS X 2.68\n",
      "this_odd MS 2 3.41\n",
      "this_odd 2,5 Alt 0\n",
      "this_odd 2,5 Üst 0\n",
      "i {'odds': [{'id': '2119728:39896890:1', 'mbs': 3, 'n': '1,5 Alt', 'val': '1.98', 'cht': 3, 'pr': 0.0, 'prl': '', 'imo': False, 'bt': 1, 'ei': 2119728, 'ocn': 1, 'mrId': 39896890, 'mrv': 484593022, 'mrt': 2, 'mrst': 101, 'mrs': 1, 'mrn': 'Toplam 1,5 Gol Alt/Üst', 'hsc': False, 'sov': '1.5'}, {'id': '2119728:39896890:2', 'mbs': 3, 'n': '1,5 Üst', 'val': '1.41', 'cht': 3, 'pr': 10.0, 'prl': '', 'imo': False, 'bt': 1, 'ei': 2119728, 'ocn': 2, 'mrId': 39896890, 'mrv': 484593022, 'mrt': 2, 'mrst': 101, 'mrs': 1, 'mrn': 'Toplam 1,5 Gol Alt/Üst', 'hsc': False, 'sov': '1.5'}, {'n': '3,5 Alt', 'val': '0', 'cht': 0, 'imo': False, 'bt': 1, 'ei': 2119728, 'ocn': 0, 'mrv': 0, 'mrt': 0, 'mrst': 0, 'hsc': False, 'sov': '3.5'}, {'n': '3,5 Üst', 'val': '0', 'cht': 0, 'imo': False, 'bt': 1, 'ei': 2119728, 'ocn': 0, 'mrv': 0, 'mrt': 0, 'mrst': 0, 'hsc': False, 'sov': '3.5'}], 'id': '2', 'name': '1,5 / 3,5', 'counts': [2, 2]}\n",
      "current_odds [{'id': '2119728:39896890:1', 'mbs': 3, 'n': '1,5 Alt', 'val': '1.98', 'cht': 3, 'pr': 0.0, 'prl': '', 'imo': False, 'bt': 1, 'ei': 2119728, 'ocn': 1, 'mrId': 39896890, 'mrv': 484593022, 'mrt': 2, 'mrst': 101, 'mrs': 1, 'mrn': 'Toplam 1,5 Gol Alt/Üst', 'hsc': False, 'sov': '1.5'}, {'id': '2119728:39896890:2', 'mbs': 3, 'n': '1,5 Üst', 'val': '1.41', 'cht': 3, 'pr': 10.0, 'prl': '', 'imo': False, 'bt': 1, 'ei': 2119728, 'ocn': 2, 'mrId': 39896890, 'mrv': 484593022, 'mrt': 2, 'mrst': 101, 'mrs': 1, 'mrn': 'Toplam 1,5 Gol Alt/Üst', 'hsc': False, 'sov': '1.5'}, {'n': '3,5 Alt', 'val': '0', 'cht': 0, 'imo': False, 'bt': 1, 'ei': 2119728, 'ocn': 0, 'mrv': 0, 'mrt': 0, 'mrst': 0, 'hsc': False, 'sov': '3.5'}, {'n': '3,5 Üst', 'val': '0', 'cht': 0, 'imo': False, 'bt': 1, 'ei': 2119728, 'ocn': 0, 'mrv': 0, 'mrt': 0, 'mrst': 0, 'hsc': False, 'sov': '3.5'}]\n",
      "this_odd 1,5 Alt 1.98\n",
      "this_odd 1,5 Üst 1.41\n",
      "this_odd 3,5 Alt 0\n",
      "this_odd 3,5 Üst 0\n",
      "i {'odds': [{'id': '2119728:39675792:1', 'mbs': 3, 'n': 'ÇŞ 1-X', 'val': '1.05', 'cht': 3, 'pr': 10.0, 'prl': '', 'imo': False, 'bt': 1, 'ei': 2119728, 'ocn': 1, 'mrId': 39675792, 'mrv': 484593018, 'mrt': 2, 'mrst': 92, 'mrs': 1, 'mrn': 'Çifte Şans', 'hsc': False}, {'id': '2119728:39675792:2', 'mbs': 3, 'n': 'ÇŞ 1-2', 'val': '1.12', 'cht': 1, 'pr': 0.0, 'prl': '', 'imo': False, 'bt': 1, 'ei': 2119728, 'ocn': 2, 'mrId': 39675792, 'mrv': 484593018, 'mrt': 2, 'mrst': 92, 'mrs': 1, 'mrn': 'Çifte Şans', 'hsc': False}, {'id': '2119728:39675792:3', 'mbs': 3, 'n': 'ÇŞ X-2', 'val': '1.32', 'cht': 3, 'pr': 0.0, 'prl': '', 'imo': False, 'bt': 1, 'ei': 2119728, 'ocn': 3, 'mrId': 39675792, 'mrv': 484593018, 'mrt': 2, 'mrst': 92, 'mrs': 1, 'mrn': 'Çifte Şans', 'hsc': False}, {'id': '2119728:39792930:1', 'mbs': 3, 'n': 'KG Var', 'val': '2.11', 'cht': 3, 'pr': 40.0, 'prl': '', 'imo': True, 'bt': 1, 'ei': 2119728, 'ocn': 1, 'mrId': 39792930, 'mrv': 484593024, 'mrt': 2, 'mrst': 89, 'mrs': 1, 'mrn': 'Karşılıklı Gol', 'hsc': False}, {'id': '2119728:39792930:2', 'mbs': 3, 'n': 'KG Yok', 'val': '1.35', 'cht': 3, 'pr': 0.0, 'prl': '', 'imo': False, 'bt': 1, 'ei': 2119728, 'ocn': 2, 'mrId': 39792930, 'mrv': 484593024, 'mrt': 2, 'mrst': 89, 'mrs': 1, 'mrn': 'Karşılıklı Gol', 'hsc': False}], 'id': '4', 'name': 'ÇŞ / KG', 'counts': [3, 2]}\n",
      "current_odds [{'id': '2119728:39675792:1', 'mbs': 3, 'n': 'ÇŞ 1-X', 'val': '1.05', 'cht': 3, 'pr': 10.0, 'prl': '', 'imo': False, 'bt': 1, 'ei': 2119728, 'ocn': 1, 'mrId': 39675792, 'mrv': 484593018, 'mrt': 2, 'mrst': 92, 'mrs': 1, 'mrn': 'Çifte Şans', 'hsc': False}, {'id': '2119728:39675792:2', 'mbs': 3, 'n': 'ÇŞ 1-2', 'val': '1.12', 'cht': 1, 'pr': 0.0, 'prl': '', 'imo': False, 'bt': 1, 'ei': 2119728, 'ocn': 2, 'mrId': 39675792, 'mrv': 484593018, 'mrt': 2, 'mrst': 92, 'mrs': 1, 'mrn': 'Çifte Şans', 'hsc': False}, {'id': '2119728:39675792:3', 'mbs': 3, 'n': 'ÇŞ X-2', 'val': '1.32', 'cht': 3, 'pr': 0.0, 'prl': '', 'imo': False, 'bt': 1, 'ei': 2119728, 'ocn': 3, 'mrId': 39675792, 'mrv': 484593018, 'mrt': 2, 'mrst': 92, 'mrs': 1, 'mrn': 'Çifte Şans', 'hsc': False}, {'id': '2119728:39792930:1', 'mbs': 3, 'n': 'KG Var', 'val': '2.11', 'cht': 3, 'pr': 40.0, 'prl': '', 'imo': True, 'bt': 1, 'ei': 2119728, 'ocn': 1, 'mrId': 39792930, 'mrv': 484593024, 'mrt': 2, 'mrst': 89, 'mrs': 1, 'mrn': 'Karşılıklı Gol', 'hsc': False}, {'id': '2119728:39792930:2', 'mbs': 3, 'n': 'KG Yok', 'val': '1.35', 'cht': 3, 'pr': 0.0, 'prl': '', 'imo': False, 'bt': 1, 'ei': 2119728, 'ocn': 2, 'mrId': 39792930, 'mrv': 484593024, 'mrt': 2, 'mrst': 89, 'mrs': 1, 'mrn': 'Karşılıklı Gol', 'hsc': False}]\n",
      "this_odd ÇŞ 1-X 1.05\n",
      "this_odd ÇŞ 1-2 1.12\n",
      "this_odd ÇŞ X-2 1.32\n",
      "this_odd KG Var 2.11\n",
      "this_odd KG Yok 1.35\n",
      "i {'odds': [{'id': '2119728:39792943:1', 'mbs': 3, 'n': 'İY 0,5 Alt', 'val': '1.91', 'cht': 3, 'pr': 0.0, 'prl': '', 'imo': False, 'bt': 1, 'ei': 2119728, 'ocn': 1, 'mrId': 39792943, 'mrv': 484593030, 'mrt': 2, 'mrst': 60, 'mrs': 1, 'mrn': 'İlk Yarı 0,5 Gol Alt/Üst', 'hsc': False, 'sov': '0.5'}, {'id': '2119728:39792943:2', 'mbs': 3, 'n': 'İY 0,5 Üst', 'val': '1.44', 'cht': 3, 'pr': 0.0, 'prl': '', 'imo': False, 'bt': 1, 'ei': 2119728, 'ocn': 2, 'mrId': 39792943, 'mrv': 484593030, 'mrt': 2, 'mrst': 60, 'mrs': 1, 'mrn': 'İlk Yarı 0,5 Gol Alt/Üst', 'hsc': False, 'sov': '0.5'}, {'n': 'İY 1,5 Alt', 'val': '0', 'cht': 0, 'imo': False, 'bt': 1, 'ei': 2119728, 'ocn': 0, 'mrv': 0, 'mrt': 0, 'mrst': 0, 'hsc': False, 'sov': '1.5'}, {'n': 'İY 1,5 Üst', 'val': '0', 'cht': 0, 'imo': False, 'bt': 1, 'ei': 2119728, 'ocn': 0, 'mrv': 0, 'mrt': 0, 'mrst': 0, 'hsc': False, 'sov': '1.5'}], 'id': '3', 'name': 'İY 0,5 / İY 1,5', 'counts': [2, 2]}\n",
      "current_odds [{'id': '2119728:39792943:1', 'mbs': 3, 'n': 'İY 0,5 Alt', 'val': '1.91', 'cht': 3, 'pr': 0.0, 'prl': '', 'imo': False, 'bt': 1, 'ei': 2119728, 'ocn': 1, 'mrId': 39792943, 'mrv': 484593030, 'mrt': 2, 'mrst': 60, 'mrs': 1, 'mrn': 'İlk Yarı 0,5 Gol Alt/Üst', 'hsc': False, 'sov': '0.5'}, {'id': '2119728:39792943:2', 'mbs': 3, 'n': 'İY 0,5 Üst', 'val': '1.44', 'cht': 3, 'pr': 0.0, 'prl': '', 'imo': False, 'bt': 1, 'ei': 2119728, 'ocn': 2, 'mrId': 39792943, 'mrv': 484593030, 'mrt': 2, 'mrst': 60, 'mrs': 1, 'mrn': 'İlk Yarı 0,5 Gol Alt/Üst', 'hsc': False, 'sov': '0.5'}, {'n': 'İY 1,5 Alt', 'val': '0', 'cht': 0, 'imo': False, 'bt': 1, 'ei': 2119728, 'ocn': 0, 'mrv': 0, 'mrt': 0, 'mrst': 0, 'hsc': False, 'sov': '1.5'}, {'n': 'İY 1,5 Üst', 'val': '0', 'cht': 0, 'imo': False, 'bt': 1, 'ei': 2119728, 'ocn': 0, 'mrv': 0, 'mrt': 0, 'mrst': 0, 'hsc': False, 'sov': '1.5'}]\n",
      "this_odd İY 0,5 Alt 1.91\n",
      "this_odd İY 0,5 Üst 1.44\n",
      "this_odd İY 1,5 Alt 0\n",
      "this_odd İY 1,5 Üst 0\n",
      "i {'odds': [{'n': '0-8', 'val': '0', 'cht': 0, 'imo': False, 'bt': 1, 'ei': 2119728, 'ocn': 0, 'mrv': 0, 'mrt': 0, 'mrst': 0, 'hsc': False}, {'n': '9-11', 'val': '0', 'cht': 0, 'imo': False, 'bt': 1, 'ei': 2119728, 'ocn': 0, 'mrv': 0, 'mrt': 0, 'mrst': 0, 'hsc': False}, {'n': '12+', 'val': '0', 'cht': 0, 'imo': False, 'bt': 1, 'ei': 2119728, 'ocn': 0, 'mrv': 0, 'mrt': 0, 'mrst': 0, 'hsc': False}, {'n': 'Alt', 'val': '0', 'cht': 0, 'imo': False, 'bt': 1, 'ei': 2119728, 'ocn': 0, 'mrv': 0, 'mrt': 0, 'mrst': 0, 'hsc': False}, {'n': 'Üst', 'val': '0', 'cht': 0, 'imo': False, 'bt': 1, 'ei': 2119728, 'ocn': 0, 'mrv': 0, 'mrt': 0, 'mrst': 0, 'hsc': False}], 'id': '8', 'name': 'Korner', 'counts': [3, 2]}\n",
      "current_odds [{'n': '0-8', 'val': '0', 'cht': 0, 'imo': False, 'bt': 1, 'ei': 2119728, 'ocn': 0, 'mrv': 0, 'mrt': 0, 'mrst': 0, 'hsc': False}, {'n': '9-11', 'val': '0', 'cht': 0, 'imo': False, 'bt': 1, 'ei': 2119728, 'ocn': 0, 'mrv': 0, 'mrt': 0, 'mrst': 0, 'hsc': False}, {'n': '12+', 'val': '0', 'cht': 0, 'imo': False, 'bt': 1, 'ei': 2119728, 'ocn': 0, 'mrv': 0, 'mrt': 0, 'mrst': 0, 'hsc': False}, {'n': 'Alt', 'val': '0', 'cht': 0, 'imo': False, 'bt': 1, 'ei': 2119728, 'ocn': 0, 'mrv': 0, 'mrt': 0, 'mrst': 0, 'hsc': False}, {'n': 'Üst', 'val': '0', 'cht': 0, 'imo': False, 'bt': 1, 'ei': 2119728, 'ocn': 0, 'mrv': 0, 'mrt': 0, 'mrst': 0, 'hsc': False}]\n",
      "this_odd 0-8 0\n",
      "this_odd 9-11 0\n",
      "this_odd 12+ 0\n",
      "this_odd Alt 0\n",
      "this_odd Üst 0\n",
      "i {'odds': [{'id': '2119728:39792942:1', 'mbs': 3, 'n': 'İY 1', 'val': '2.60', 'cht': 3, 'pr': 0.0, 'prl': '', 'imo': False, 'bt': 1, 'ei': 2119728, 'ocn': 1, 'mrId': 39792942, 'mrv': 484593026, 'mrt': 2, 'mrst': 88, 'mrs': 1, 'mrn': 'İlk Yarı Sonucu', 'hsc': False}, {'id': '2119728:39792942:2', 'mbs': 3, 'n': 'İY X', 'val': '1.65', 'cht': 3, 'pr': 0.0, 'prl': '', 'imo': False, 'bt': 1, 'ei': 2119728, 'ocn': 2, 'mrId': 39792942, 'mrv': 484593026, 'mrt': 2, 'mrst': 88, 'mrs': 1, 'mrn': 'İlk Yarı Sonucu', 'hsc': False}, {'id': '2119728:39792942:3', 'mbs': 3, 'n': 'İY 2', 'val': '4.42', 'cht': 3, 'pr': 0.0, 'prl': '', 'imo': False, 'bt': 1, 'ei': 2119728, 'ocn': 3, 'mrId': 39792942, 'mrv': 484593026, 'mrt': 2, 'mrst': 88, 'mrs': 1, 'mrn': 'İlk Yarı Sonucu', 'hsc': False}], 'id': '9', 'name': 'İY', 'counts': [3, 0]}\n",
      "current_odds [{'id': '2119728:39792942:1', 'mbs': 3, 'n': 'İY 1', 'val': '2.60', 'cht': 3, 'pr': 0.0, 'prl': '', 'imo': False, 'bt': 1, 'ei': 2119728, 'ocn': 1, 'mrId': 39792942, 'mrv': 484593026, 'mrt': 2, 'mrst': 88, 'mrs': 1, 'mrn': 'İlk Yarı Sonucu', 'hsc': False}, {'id': '2119728:39792942:2', 'mbs': 3, 'n': 'İY X', 'val': '1.65', 'cht': 3, 'pr': 0.0, 'prl': '', 'imo': False, 'bt': 1, 'ei': 2119728, 'ocn': 2, 'mrId': 39792942, 'mrv': 484593026, 'mrt': 2, 'mrst': 88, 'mrs': 1, 'mrn': 'İlk Yarı Sonucu', 'hsc': False}, {'id': '2119728:39792942:3', 'mbs': 3, 'n': 'İY 2', 'val': '4.42', 'cht': 3, 'pr': 0.0, 'prl': '', 'imo': False, 'bt': 1, 'ei': 2119728, 'ocn': 3, 'mrId': 39792942, 'mrv': 484593026, 'mrt': 2, 'mrst': 88, 'mrs': 1, 'mrn': 'İlk Yarı Sonucu', 'hsc': False}]\n",
      "this_odd İY 1 2.60\n",
      "this_odd İY X 1.65\n",
      "this_odd İY 2 4.42\n",
      "i {'odds': [{'n': '0-1 Gol', 'val': '0', 'cht': 0, 'imo': False, 'bt': 1, 'ei': 2119728, 'ocn': 0, 'mrv': 0, 'mrt': 0, 'mrst': 0, 'hsc': False}, {'n': '2-3 Gol', 'val': '0', 'cht': 0, 'imo': False, 'bt': 1, 'ei': 2119728, 'ocn': 0, 'mrv': 0, 'mrt': 0, 'mrst': 0, 'hsc': False}, {'n': '4-5 Gol', 'val': '0', 'cht': 0, 'imo': False, 'bt': 1, 'ei': 2119728, 'ocn': 0, 'mrv': 0, 'mrt': 0, 'mrst': 0, 'hsc': False}, {'n': '6+ Gol', 'val': '0', 'cht': 0, 'imo': False, 'bt': 1, 'ei': 2119728, 'ocn': 0, 'mrv': 0, 'mrt': 0, 'mrst': 0, 'hsc': False}], 'id': '6', 'name': 'TG', 'counts': [4, 0]}\n",
      "current_odds [{'n': '0-1 Gol', 'val': '0', 'cht': 0, 'imo': False, 'bt': 1, 'ei': 2119728, 'ocn': 0, 'mrv': 0, 'mrt': 0, 'mrst': 0, 'hsc': False}, {'n': '2-3 Gol', 'val': '0', 'cht': 0, 'imo': False, 'bt': 1, 'ei': 2119728, 'ocn': 0, 'mrv': 0, 'mrt': 0, 'mrst': 0, 'hsc': False}, {'n': '4-5 Gol', 'val': '0', 'cht': 0, 'imo': False, 'bt': 1, 'ei': 2119728, 'ocn': 0, 'mrv': 0, 'mrt': 0, 'mrst': 0, 'hsc': False}, {'n': '6+ Gol', 'val': '0', 'cht': 0, 'imo': False, 'bt': 1, 'ei': 2119728, 'ocn': 0, 'mrv': 0, 'mrt': 0, 'mrst': 0, 'hsc': False}]\n",
      "this_odd 0-1 Gol 0\n",
      "this_odd 2-3 Gol 0\n",
      "this_odd 4-5 Gol 0\n",
      "this_odd 6+ Gol 0\n"
     ]
    }
   ],
   "source": [
    "for k, v in event_items.items():\n",
    "    print(\"id\", k)\n",
    "    match_id = k\n",
    "    for k2, v2 in v.items():\n",
    "        if type(v2) == list:\n",
    "            # print(v2)\n",
    "            for i in v2:\n",
    "                print(\"i\", i)\n",
    "                current_odds = i.get('odds')\n",
    "                print(\"current_odds\", current_odds)\n",
    "                for this_odd in current_odds:\n",
    "                    print(\"this_odd\", this_odd['n'], this_odd['val'])\n",
    "                # for k3, v3 in i.items():\n",
    "                #     print(\"v3\", v3)\n",
    "                # for k3, v3 in i.items():\n",
    "                #     print(k3, v3)\n",
    "    break"
   ]
  }
 ],
 "metadata": {
  "kernelspec": {
   "display_name": "ai",
   "language": "python",
   "name": "python3"
  },
  "language_info": {
   "codemirror_mode": {
    "name": "ipython",
    "version": 3
   },
   "file_extension": ".py",
   "mimetype": "text/x-python",
   "name": "python",
   "nbconvert_exporter": "python",
   "pygments_lexer": "ipython3",
   "version": "3.12.0"
  }
 },
 "nbformat": 4,
 "nbformat_minor": 5
}
