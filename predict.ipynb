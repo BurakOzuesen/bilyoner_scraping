{
 "cells": [
  {
   "cell_type": "code",
   "execution_count": 55,
   "id": "5ae8e424",
   "metadata": {},
   "outputs": [],
   "source": [
    "# Gerekli kütüphaneler\n",
    "import pandas as pd\n",
    "import numpy as np"
   ]
  },
  {
   "cell_type": "code",
   "execution_count": 56,
   "id": "47794c19",
   "metadata": {},
   "outputs": [],
   "source": [
    "CSV_PATH = \"match_odds_wide.csv\"\n",
    "KEY_COLS = [\n",
    "    \"match_date\", \"match_time\", \"tournament\", \"match_id\",\n",
    "    \"homeTeam\", \"awayTeam\",\n",
    "    \"firstHalfHomeGoal\", \"firstHalfAwayGoal\",\n",
    "    \"totalHomeGoal\", \"totalAwayGoal\",\n",
    "    \"homeCorner\", \"awayCorner\"\n",
    "]"
   ]
  },
  {
   "cell_type": "code",
   "execution_count": 57,
   "id": "001113a1",
   "metadata": {},
   "outputs": [],
   "source": [
    "df = pd.read_csv(CSV_PATH)"
   ]
  },
  {
   "cell_type": "code",
   "execution_count": 58,
   "id": "74a6234c",
   "metadata": {},
   "outputs": [],
   "source": [
    "numeric_cols = [col for col in df.columns if col not in KEY_COLS]"
   ]
  },
  {
   "cell_type": "code",
   "execution_count": 59,
   "id": "429e0138",
   "metadata": {},
   "outputs": [
    {
     "data": {
      "text/plain": [
       "(776, 736)"
      ]
     },
     "execution_count": 59,
     "metadata": {},
     "output_type": "execute_result"
    }
   ],
   "source": [
    "train_set = df.dropna(subset=[\"totalHomeGoal\", \"totalAwayGoal\"])\n",
    "train_set.shape"
   ]
  },
  {
   "cell_type": "code",
   "execution_count": 60,
   "id": "4a922858",
   "metadata": {},
   "outputs": [
    {
     "data": {
      "text/plain": [
       "(106, 736)"
      ]
     },
     "execution_count": 60,
     "metadata": {},
     "output_type": "execute_result"
    }
   ],
   "source": [
    "test_set = df[df[[\"totalHomeGoal\", \"totalAwayGoal\"]].isna().any(axis=1)]\n",
    "test_set.shape"
   ]
  },
  {
   "cell_type": "code",
   "execution_count": 61,
   "id": "7923fe8b",
   "metadata": {},
   "outputs": [],
   "source": [
    "# 3. Özellik sütunlarını belirle\n",
    "feature_cols = [col for col in df.columns if col not in KEY_COLS]\n",
    "\n",
    "# Sayısal verileri al (kategorik varsa elleme hatası olur)\n",
    "feature_cols = [col for col in feature_cols if pd.api.types.is_numeric_dtype(df[col])]\n"
   ]
  },
  {
   "cell_type": "code",
   "execution_count": 62,
   "id": "c1c3e94d",
   "metadata": {},
   "outputs": [],
   "source": [
    "# Train: skoru olanlar, Test: skoru olmayanlar\n",
    "train_df = df[df[\"totalHomeGoal\"].notna()].copy()\n",
    "test_df  = df[df[\"totalHomeGoal\"].isna()].copy()\n",
    "\n",
    "# Sadece oran sütunları\n",
    "ODDS_COLS = [col for col in df.columns if col not in KEY_COLS]\n",
    "\n",
    "train_odds = train_df[ODDS_COLS]\n",
    "test_odds = test_df[ODDS_COLS]"
   ]
  },
  {
   "cell_type": "code",
   "execution_count": 63,
   "id": "e352b7a5",
   "metadata": {},
   "outputs": [],
   "source": [
    "# -- 2. Testten rastgele bir maç seç\n",
    "import random\n",
    "\n",
    "random_idx = random.randint(0, len(test_df)-1)\n",
    "test_row = test_df.iloc[random_idx]"
   ]
  },
  {
   "cell_type": "code",
   "execution_count": 64,
   "id": "cdea0e9b",
   "metadata": {},
   "outputs": [
    {
     "data": {
      "text/plain": [
       "1.69"
      ]
     },
     "execution_count": 64,
     "metadata": {},
     "output_type": "execute_result"
    }
   ],
   "source": [
    "test_row[\"Maç Sonucu :: MS 2\"]"
   ]
  },
  {
   "cell_type": "code",
   "execution_count": null,
   "id": "b9a16e22",
   "metadata": {},
   "outputs": [
    {
     "name": "stdout",
     "output_type": "stream",
     "text": [
      "Test Maçı: Sportivo Ameliano vs Cerro Porteno\n",
      "\n",
      "Top 100 en yakın maç bazında MS olasılıkları:\n",
      "  MS 1: %31.00\n",
      "  MS X: %23.00\n",
      "  MS 2: %46.00\n"
     ]
    }
   ],
   "source": [
    "import pandas as pd\n",
    "import numpy as np\n",
    "import random\n",
    "\n",
    "CSV_PATH = \"match_odds_wide.csv\"\n",
    "\n",
    "# -- 1. Veri okuma ve ayrıştırma\n",
    "df = pd.read_csv(CSV_PATH)\n",
    "\n",
    "meta_cols = [\n",
    "    'match_date', 'match_time', 'tournament', 'match_id',\n",
    "    'homeTeam', 'awayTeam',\n",
    "    'firstHalfHomeGoal', 'firstHalfAwayGoal',\n",
    "    'totalHomeGoal', 'totalAwayGoal',\n",
    "    'homeCorner', 'awayCorner'\n",
    "]\n",
    "\n",
    "numeric_cols = [col for col in df.columns if col not in meta_cols]\n",
    "\n",
    "train_df = df[df[\"totalHomeGoal\"].notna()].reset_index(drop=True)\n",
    "test_df = df[df[\"totalHomeGoal\"].isna()].reset_index(drop=True)\n",
    "\n",
    "# -- 2. Testten rastgele bir maç seç\n",
    "random_idx = random.randint(0, len(test_df)-1)\n",
    "test_row = test_df.iloc[random_idx]\n",
    "\n",
    "# -- 3. En yakın 100 maçı bul\n",
    "distances = []\n",
    "\n",
    "for idx, train_row in train_df.iterrows():\n",
    "    train_vals = train_row[numeric_cols]\n",
    "    test_vals = test_row[numeric_cols]\n",
    "\n",
    "    valid_mask = ~(train_vals.isna() | test_vals.isna())\n",
    "\n",
    "    if valid_mask.sum() == 0:\n",
    "        dist = np.inf\n",
    "    else:\n",
    "        diff_squared = (train_vals[valid_mask] - test_vals[valid_mask]) ** 2\n",
    "        dist = np.sqrt(diff_squared.sum())\n",
    "\n",
    "    distances.append((idx, dist))\n",
    "\n",
    "distance_df = pd.DataFrame(distances, columns=[\"index\", \"distance\"])\n",
    "top_100_indices = distance_df.sort_values(by=\"distance\").head(10chrome\n",
    "                                                              0)[\"index\"]\n",
    "\n",
    "top_100_matches = train_df.loc[top_100_indices]\n",
    "\n",
    "# -- 4. MS 1-X-2 sonuçlarını hesapla\n",
    "ms1 = ((top_100_matches[\"totalHomeGoal\"] > top_100_matches[\"totalAwayGoal\"])).sum()\n",
    "msx = ((top_100_matches[\"totalHomeGoal\"] == top_100_matches[\"totalAwayGoal\"])).sum()\n",
    "ms2 = ((top_100_matches[\"totalHomeGoal\"] < top_100_matches[\"totalAwayGoal\"])).sum()\n",
    "\n",
    "total = ms1 + msx + ms2\n",
    "\n",
    "ms1_prob = ms1 / total\n",
    "msx_prob = msx / total\n",
    "ms2_prob = ms2 / total\n",
    "\n",
    "# -- 5. Sonuçları yazdır\n",
    "print(f\"Test Maçı: {test_row['homeTeam']} vs {test_row['awayTeam']}\")\n",
    "print(f\"\\nTop 100 en yakın maç bazında MS olasılıkları:\")\n",
    "print(f\"  MS 1: %{ms1_prob * 100:.2f}\")\n",
    "print(f\"  MS X: %{msx_prob * 100:.2f}\")\n",
    "print(f\"  MS 2: %{ms2_prob * 100:.2f}\")\n"
   ]
  }
 ],
 "metadata": {
  "kernelspec": {
   "display_name": "ai",
   "language": "python",
   "name": "python3"
  },
  "language_info": {
   "codemirror_mode": {
    "name": "ipython",
    "version": 3
   },
   "file_extension": ".py",
   "mimetype": "text/x-python",
   "name": "python",
   "nbconvert_exporter": "python",
   "pygments_lexer": "ipython3",
   "version": "3.12.0"
  }
 },
 "nbformat": 4,
 "nbformat_minor": 5
}
